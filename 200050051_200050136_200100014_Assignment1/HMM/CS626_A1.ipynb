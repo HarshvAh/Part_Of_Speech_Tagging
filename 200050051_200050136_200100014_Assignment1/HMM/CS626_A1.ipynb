{
  "nbformat": 4,
  "nbformat_minor": 0,
  "metadata": {
    "colab": {
      "provenance": [],
      "collapsed_sections": []
    },
    "kernelspec": {
      "name": "python3",
      "display_name": "Python 3"
    },
    "language_info": {
      "name": "python"
    }
  },
  "cells": [
    {
      "cell_type": "markdown",
      "source": [
        "**Installing NLTK package**"
      ],
      "metadata": {
        "id": "U1wqVsL1R8Ak"
      }
    },
    {
      "cell_type": "code",
      "source": [
        "!pip install nltk"
      ],
      "metadata": {
        "id": "qmeggp42vQnX",
        "colab": {
          "base_uri": "https://localhost:8080/"
        },
        "outputId": "54a29b7d-bb3c-40c1-f41c-8fae53da4eca"
      },
      "execution_count": 1,
      "outputs": [
        {
          "output_type": "stream",
          "name": "stdout",
          "text": [
            "Looking in indexes: https://pypi.org/simple, https://us-python.pkg.dev/colab-wheels/public/simple/\n",
            "Requirement already satisfied: nltk in /usr/local/lib/python3.7/dist-packages (3.7)\n",
            "Requirement already satisfied: click in /usr/local/lib/python3.7/dist-packages (from nltk) (7.1.2)\n",
            "Requirement already satisfied: regex>=2021.8.3 in /usr/local/lib/python3.7/dist-packages (from nltk) (2022.6.2)\n",
            "Requirement already satisfied: tqdm in /usr/local/lib/python3.7/dist-packages (from nltk) (4.64.0)\n",
            "Requirement already satisfied: joblib in /usr/local/lib/python3.7/dist-packages (from nltk) (1.1.0)\n"
          ]
        }
      ]
    },
    {
      "cell_type": "markdown",
      "source": [
        "**Downloading Brown Corpus**"
      ],
      "metadata": {
        "id": "OYWO8tRIMYNv"
      }
    },
    {
      "cell_type": "code",
      "source": [
        "import nltk\n",
        "import numpy as np\n",
        "from nltk.corpus import brown\n",
        "from sklearn.model_selection import train_test_split\n",
        "nltk.download('brown')\n",
        "nltk.download('universal_tagset')\n",
        "nltk.download('punkt')"
      ],
      "metadata": {
        "id": "rkv1nSRI1Imp",
        "colab": {
          "base_uri": "https://localhost:8080/"
        },
        "outputId": "be90d857-38e1-4650-804b-923427839fc4"
      },
      "execution_count": 2,
      "outputs": [
        {
          "output_type": "stream",
          "name": "stderr",
          "text": [
            "[nltk_data] Downloading package brown to /root/nltk_data...\n",
            "[nltk_data]   Unzipping corpora/brown.zip.\n",
            "[nltk_data] Downloading package universal_tagset to /root/nltk_data...\n",
            "[nltk_data]   Unzipping taggers/universal_tagset.zip.\n",
            "[nltk_data] Downloading package punkt to /root/nltk_data...\n",
            "[nltk_data]   Unzipping tokenizers/punkt.zip.\n"
          ]
        },
        {
          "output_type": "execute_result",
          "data": {
            "text/plain": [
              "True"
            ]
          },
          "metadata": {},
          "execution_count": 2
        }
      ]
    },
    {
      "cell_type": "markdown",
      "source": [
        "**Extracting words from sentences**"
      ],
      "metadata": {
        "id": "UHlTJSLzMnO9"
      }
    },
    {
      "cell_type": "code",
      "source": [
        "def sents_to_words(sents_data):\n",
        "  words_data = []\n",
        "  for sent_index in range(len(sents_data)):\n",
        "    for word_index in range(len(sents_data[sent_index])): \n",
        "      words_data.append(sents_data[sent_index][word_index])\n",
        "  return words_data"
      ],
      "metadata": {
        "id": "MkNOXhILRvb9"
      },
      "execution_count": 3,
      "outputs": []
    },
    {
      "cell_type": "markdown",
      "source": [
        "**Making a dictionary for words**"
      ],
      "metadata": {
        "id": "bFdMJUsYMsFr"
      }
    },
    {
      "cell_type": "code",
      "source": [
        "def words_dict(sents_data):\n",
        "  words_data = sents_to_words(sents_data)\n",
        "  words = list(set([i[0].lower() for i in words_data]))\n",
        "  words_index = dict(zip(words, range(len(words))))\n",
        "  return words_index"
      ],
      "metadata": {
        "id": "uK2IcvKrlmDF"
      },
      "execution_count": 4,
      "outputs": []
    },
    {
      "cell_type": "markdown",
      "source": [
        "**Calculating transition probabilities**"
      ],
      "metadata": {
        "id": "ebpOP0bFMxWr"
      }
    },
    {
      "cell_type": "code",
      "source": [
        "def transitions(train_data):\n",
        "  tagged_sequences = []\n",
        "  for i in range(len(train_data)):\n",
        "    tagged_sequences.append([tag_index[word[1]] for word in train_data[i]])\n",
        "  transition_table = np.zeros((len(tags),len(tags)))\n",
        "  for s in range(len(tagged_sequences)):\n",
        "    for (i,j) in zip(tagged_sequences[s],tagged_sequences[s][1:]):\n",
        "      transition_table[i][j] += 1\n",
        "  count_matrix = []\n",
        "  for row in transition_table:\n",
        "      n = sum(row)\n",
        "      count_matrix.append(n)\n",
        "      if n > 0:\n",
        "          row[:] = [(val+1)/(n+len(tags)) for val in row]\n",
        "  transition_table[len(transition_table)-1][0] = 1\n",
        "  return transition_table,count_matrix"
      ],
      "metadata": {
        "id": "OPcmyqT0sJ-O"
      },
      "execution_count": 5,
      "outputs": []
    },
    {
      "cell_type": "markdown",
      "source": [
        "**Calculating lexical probabilities**"
      ],
      "metadata": {
        "id": "tDaQ4a8dM1jf"
      }
    },
    {
      "cell_type": "code",
      "source": [
        "def emmissions(train_data, words_index):\n",
        "  words_data = sents_to_words(train_data)\n",
        "  emmission_table = np.zeros((len(tags),len(words_data)))\n",
        "  emmission_table = emmission_table.astype('float64')\n",
        "  for word in words_data:\n",
        "    emmission_table[tag_index[word[1]]][words_index[word[0].lower()]]+=1\n",
        "  for row in emmission_table:\n",
        "      n = sum(row)\n",
        "      if n > 0:\n",
        "          row[:] = [val/n for val in row]\n",
        "  return emmission_table"
      ],
      "metadata": {
        "id": "4saqJTFvH5f6"
      },
      "execution_count": 6,
      "outputs": []
    },
    {
      "cell_type": "markdown",
      "source": [
        "**Viterbi Algorithm**"
      ],
      "metadata": {
        "id": "s1eELo9eNBS0"
      }
    },
    {
      "cell_type": "code",
      "source": [
        "def viterbi(word_list, transition_table, emmission_table, words_index, count_matrix):\n",
        "  for i in range(len(word_list)):\n",
        "    word_list[i] = word_list[i].lower()\n",
        "  A = np.copy(transition_table)\n",
        "  A = A[0][1:-1]\n",
        "  B = np.empty([len(tags)-2, len(tags)-2])\n",
        "  prev_path = [[]]*(len(tags)-2)\n",
        "  next_path = [[]]*(len(tags)-2)\n",
        "  for word in word_list[:-1]:\n",
        "    for i in range(len(tags)-2):\n",
        "      for j in range(len(tags)-2):\n",
        "        if word in words_index.keys():\n",
        "          B[i][j] = A[i]*transition_table[i+1][j+1]*emmission_table[i+1][words_index[word]]\n",
        "        else:\n",
        "          B[i][j] = A[i]*transition_table[i+1][j+1]*(1/(count_matrix[i+1]+len(words_index)))\n",
        "    A = np.amax(B, axis=0)\n",
        "    index = np.argmax(B, axis=0)\n",
        "    for i in range(len(tags)-2):\n",
        "      next_path[i] = prev_path[index[i]] + [index[i]+1]\n",
        "    prev_path = next_path[:]\n",
        "  for i in range(len(tags)-2):\n",
        "    if word_list[-1] in words_index.keys():\n",
        "      A[i] = A[i]*transition_table[i+1][len(tags)-1]*emmission_table[i+1][words_index[word_list[-1]]]\n",
        "    else:\n",
        "      A[i] = A[i]*transition_table[i+1][len(tags)-1]*(1/(count_matrix[i+1]+len(words_index)))\n",
        "  last_index = np.argmax(A, axis=0)\n",
        "  final_path = prev_path[last_index] + [last_index+1]\n",
        "  for i in range(len(final_path)):\n",
        "    final_path[i] = index_to_tag[final_path[i]]\n",
        "  return final_path"
      ],
      "metadata": {
        "id": "hCqxXTMKeWZU"
      },
      "execution_count": 7,
      "outputs": []
    },
    {
      "cell_type": "markdown",
      "source": [
        "**Defining the tagset**"
      ],
      "metadata": {
        "id": "3Jv4M3HRNFWI"
      }
    },
    {
      "cell_type": "code",
      "source": [
        "corpus_words = nltk.corpus.brown.tagged_words(tagset='universal')\n",
        "tags = list(set([i[1] for i in corpus_words])) # Unique tags\n",
        "tags.sort()\n",
        "tags = ['^'] + tags + ['END']\n",
        "tag_index = dict(zip(tags, range(len(tags))))\n",
        "index_to_tag = dict(zip(range(len(tags)),tags))"
      ],
      "metadata": {
        "id": "yofiPvGqYW6W"
      },
      "execution_count": 8,
      "outputs": []
    },
    {
      "cell_type": "markdown",
      "source": [
        "**UNIVERSAL TAGSET**\n",
        "\n",
        "^ : Start (0)\n",
        "\n",
        ". : Punctuation (1)\n",
        "\n",
        "ADJ : adjective (2)\n",
        "\n",
        "ADP : adposition (3)\n",
        " \n",
        "ADV : adverb (4)\n",
        "\n",
        "CONJ : conjunction (5)\n",
        "\n",
        "DET : determiner (6)\n",
        "\n",
        "NOUN : noun (7)\n",
        "\n",
        "NUM : numeral (8)\n",
        "\n",
        "PRT : particle (9)\n",
        "\n",
        "PRON : pronoun (10)\n",
        "\n",
        "VERB : verb (11)\n",
        "\n",
        "X : other (12)\n",
        "\n",
        "END : End (13)"
      ],
      "metadata": {
        "id": "6csF8n3liA7E"
      }
    },
    {
      "cell_type": "markdown",
      "source": [
        "**Extracting sentences from Brown Corpus**"
      ],
      "metadata": {
        "id": "dGg_81zANMAi"
      }
    },
    {
      "cell_type": "code",
      "source": [
        "corpus_sents = np.asarray(nltk.corpus.brown.tagged_sents(tagset='universal'))\n",
        "discard = []\n",
        "for i in range(len(corpus_sents)):\n",
        "  if(len(corpus_sents[i])==1 and corpus_sents[i][0][1]=='.'):\n",
        "    discard.append(i)\n",
        "corpus_sents = np.delete(corpus_sents, discard)\n",
        "corpus_sents = corpus_sents.tolist()\n",
        "for i in range(len(corpus_sents)):\n",
        "  corpus_sents[i].insert(0,('^','^'))\n",
        "  if corpus_sents[i][-1][1] != '.':\n",
        "    corpus_sents[i].append(('.','END'))\n",
        "  else:\n",
        "    end = corpus_sents[i][-1][0]\n",
        "    corpus_sents[i] = corpus_sents[i][:-1] \n",
        "    corpus_sents[i].append((end,'END'))"
      ],
      "metadata": {
        "id": "DLvmaF44CJ2G",
        "colab": {
          "base_uri": "https://localhost:8080/"
        },
        "outputId": "bf368eee-992b-4cc5-fd6c-ddeb2e737b2a"
      },
      "execution_count": 9,
      "outputs": [
        {
          "output_type": "stream",
          "name": "stderr",
          "text": [
            "/usr/local/lib/python3.7/dist-packages/ipykernel_launcher.py:1: VisibleDeprecationWarning: Creating an ndarray from ragged nested sequences (which is a list-or-tuple of lists-or-tuples-or ndarrays with different lengths or shapes) is deprecated. If you meant to do this, you must specify 'dtype=object' when creating the ndarray.\n",
            "  \"\"\"Entry point for launching an IPython kernel.\n"
          ]
        }
      ]
    },
    {
      "cell_type": "markdown",
      "source": [
        "**Performing K-Fold Cross Validation on the model**"
      ],
      "metadata": {
        "id": "kJit_CAcNShh"
      }
    },
    {
      "cell_type": "code",
      "source": [
        "from sklearn.model_selection import KFold\n",
        "kfold = KFold(n_splits=5, random_state=None, shuffle=True)\n",
        "corpus_sents = np.asarray(corpus_sents)\n",
        "confusion_matrix = np.zeros((len(tags)-2,len(tags)-2))\n",
        "confusion_matrix = confusion_matrix.astype('float64')\n",
        "accuracy = []\n",
        "for train, test in kfold.split(corpus_sents):\n",
        "  training_data = corpus_sents[train]\n",
        "  training_data = training_data.tolist()\n",
        "  test_data = corpus_sents[test]\n",
        "  test_data = test_data.tolist()\n",
        "  words_index = words_dict(training_data)\n",
        "  transition_table,count_matrix = transitions(training_data)\n",
        "  emmission_table = emmissions(training_data,words_index)\n",
        "  correct_tags = 0\n",
        "  total_tags = 0\n",
        "  for sent in test_data:\n",
        "    words_list = []\n",
        "    tags_list = []\n",
        "    for i in range(len(sent)):\n",
        "      words_list.append(sent[i][0])\n",
        "      tags_list.append(sent[i][1])\n",
        "    tags_list = tags_list[1:-1]\n",
        "    POS_tag = viterbi(words_list[1:-1], transition_table, emmission_table, words_index, count_matrix)\n",
        "    total_tags += len(POS_tag)\n",
        "    for i in range(len(POS_tag)):\n",
        "      confusion_matrix[tag_index[tags_list[i]]-1][tag_index[POS_tag[i]]-1] += 1\n",
        "      if POS_tag[i]==tags_list[i]:\n",
        "        correct_tags += 1\n",
        "  accuracy.append(correct_tags/total_tags)\n",
        "final_accuracy = np.mean(accuracy)\n",
        "print(final_accuracy*100)"
      ],
      "metadata": {
        "colab": {
          "base_uri": "https://localhost:8080/"
        },
        "id": "VzU21_gnN3pY",
        "outputId": "acf43e82-09ba-47d3-becb-4bbfeb91343f"
      },
      "execution_count": 10,
      "outputs": [
        {
          "output_type": "stream",
          "name": "stderr",
          "text": [
            "/usr/local/lib/python3.7/dist-packages/ipykernel_launcher.py:3: VisibleDeprecationWarning: Creating an ndarray from ragged nested sequences (which is a list-or-tuple of lists-or-tuples-or ndarrays with different lengths or shapes) is deprecated. If you meant to do this, you must specify 'dtype=object' when creating the ndarray.\n",
            "  This is separate from the ipykernel package so we can avoid doing imports until\n"
          ]
        },
        {
          "output_type": "stream",
          "name": "stdout",
          "text": [
            "95.64034349640303\n"
          ]
        }
      ]
    },
    {
      "cell_type": "markdown",
      "source": [
        "**Calculating Precision, Recall and F-scores**"
      ],
      "metadata": {
        "id": "sZxSPrpiRpaB"
      }
    },
    {
      "cell_type": "code",
      "source": [
        "def Fscore(beta,precision,recall):\n",
        "  return (1+beta*beta)*precision*recall/(beta*beta*precision + recall)"
      ],
      "metadata": {
        "id": "5m6We7Rf3PSa"
      },
      "execution_count": 11,
      "outputs": []
    },
    {
      "cell_type": "code",
      "source": [
        "precision = []\n",
        "recall = []\n",
        "for i in range(len(confusion_matrix)):\n",
        "  precision.append(confusion_matrix[i][i]/sum(confusion_matrix[:,i]))\n",
        "  recall.append(confusion_matrix[i][i]/sum(confusion_matrix[i]))\n",
        "F1_score = []\n",
        "F2_score = []\n",
        "Fhalf_score = []\n",
        "for i in range(len(recall)):\n",
        "  F1_score.append(Fscore(1,precision[i],recall[i]))\n",
        "  F2_score.append(Fscore(2,precision[i],recall[i]))\n",
        "  Fhalf_score.append(Fscore(0.5,precision[i],recall[i]))"
      ],
      "metadata": {
        "id": "Nz1p7q17NicO"
      },
      "execution_count": 12,
      "outputs": []
    },
    {
      "cell_type": "markdown",
      "source": [
        "**Plotting the heat map for confusion matrix**"
      ],
      "metadata": {
        "id": "-rrysqHGRuGC"
      }
    },
    {
      "cell_type": "code",
      "source": [
        "import seaborn as sns\n",
        "import matplotlib.pyplot as plt\n",
        "\n",
        "c = np.empty((len(confusion_matrix),len(confusion_matrix)))\n",
        "for i in range(len(confusion_matrix)):\n",
        "  for j in range(len(confusion_matrix)):\n",
        "    c[i][j] = round(confusion_matrix[i][j],2)\n",
        "fig, ax = plt.subplots(figsize=(15,15))         # Sample figsize in inches\n",
        "sns.heatmap(c, annot=True, linewidths=.5, ax=ax, xticklabels=tags[1:-1], yticklabels=tags[1:-1])"
      ],
      "metadata": {
        "colab": {
          "base_uri": "https://localhost:8080/",
          "height": 880
        },
        "id": "aRH37FH3PzEb",
        "outputId": "76618893-42c5-41dc-b46d-8d9cfe14e71c"
      },
      "execution_count": 13,
      "outputs": [
        {
          "output_type": "execute_result",
          "data": {
            "text/plain": [
              "<matplotlib.axes._subplots.AxesSubplot at 0x7fd20b17b150>"
            ]
          },
          "metadata": {},
          "execution_count": 13
        },
        {
          "output_type": "display_data",
          "data": {
            "text/plain": [
              "<Figure size 1080x1080 with 2 Axes>"
            ],
            "image/png": "[encoded data removed]"
          },
          "metadata": {
            "needs_background": "light"
          }
        }
      ]
    },
    {
      "cell_type": "markdown",
      "source": [
        "**Performing POS tagging on user input sentence**"
      ],
      "metadata": {
        "id": "7keKYBDURyD4"
      }
    },
    {
      "cell_type": "code",
      "source": [
        "words_index = words_dict(corpus_sents)\n",
        "transition_table,count_matrix = transitions(corpus_sents)\n",
        "emmission_table = emmissions(corpus_sents,words_index)"
      ],
      "metadata": {
        "id": "jssaYKecSUYj"
      },
      "execution_count": 14,
      "outputs": []
    },
    {
      "cell_type": "code",
      "source": [
        "input_sentence = input() # Enter the sentence"
      ],
      "metadata": {
        "id": "YJ1gV5s6RD9e",
        "colab": {
          "base_uri": "https://localhost:8080/"
        },
        "outputId": "88c297c7-8539-4d80-f31a-34242c58509c"
      },
      "execution_count": 15,
      "outputs": [
        {
          "name": "stdout",
          "output_type": "stream",
          "text": [
            "I walked in the park\n"
          ]
        }
      ]
    },
    {
      "cell_type": "code",
      "source": [
        "nltk.download('punkt')\n",
        "lst = nltk.word_tokenize(input_sentence)\n",
        "POS_tag = viterbi(lst, transition_table, emmission_table, words_index, count_matrix)\n",
        "print(POS_tag)"
      ],
      "metadata": {
        "id": "fRI1QIbtMNfq"
      },
      "execution_count": null,
      "outputs": []
    }
  ]
}