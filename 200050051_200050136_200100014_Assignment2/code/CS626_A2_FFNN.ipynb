{
  "cells": [
    {
      "cell_type": "markdown",
      "metadata": {
        "id": "U1wqVsL1R8Ak"
      },
      "source": [
        "### **Installing NLTK and Gensim packages**"
      ]
    },
    {
      "cell_type": "code",
      "execution_count": null,
      "metadata": {
        "colab": {
          "base_uri": "https://localhost:8080/"
        },
        "id": "OkmsETNiqaLd",
        "outputId": "99bb546e-bc59-4d76-aed4-e954045064e9"
      },
      "outputs": [
        {
          "name": "stdout",
          "output_type": "stream",
          "text": [
            "Looking in indexes: https://pypi.org/simple, https://us-python.pkg.dev/colab-wheels/public/simple/\n",
            "Requirement already satisfied: nltk in /usr/local/lib/python3.7/dist-packages (3.7)\n",
            "Requirement already satisfied: click in /usr/local/lib/python3.7/dist-packages (from nltk) (7.1.2)\n",
            "Requirement already satisfied: tqdm in /usr/local/lib/python3.7/dist-packages (from nltk) (4.64.1)\n",
            "Requirement already satisfied: regex>=2021.8.3 in /usr/local/lib/python3.7/dist-packages (from nltk) (2022.6.2)\n",
            "Requirement already satisfied: joblib in /usr/local/lib/python3.7/dist-packages (from nltk) (1.2.0)\n",
            "Looking in indexes: https://pypi.org/simple, https://us-python.pkg.dev/colab-wheels/public/simple/\n",
            "Requirement already satisfied: gensim in /usr/local/lib/python3.7/dist-packages (3.6.0)\n",
            "Collecting gensim\n",
            "  Downloading gensim-4.2.0-cp37-cp37m-manylinux_2_12_x86_64.manylinux2010_x86_64.whl (24.1 MB)\n",
            "\u001b[K     |████████████████████████████████| 24.1 MB 1.7 MB/s \n",
            "\u001b[?25hRequirement already satisfied: numpy>=1.17.0 in /usr/local/lib/python3.7/dist-packages (from gensim) (1.21.6)\n",
            "Requirement already satisfied: smart-open>=1.8.1 in /usr/local/lib/python3.7/dist-packages (from gensim) (5.2.1)\n",
            "Requirement already satisfied: scipy>=0.18.1 in /usr/local/lib/python3.7/dist-packages (from gensim) (1.7.3)\n",
            "Installing collected packages: gensim\n",
            "  Attempting uninstall: gensim\n",
            "    Found existing installation: gensim 3.6.0\n",
            "    Uninstalling gensim-3.6.0:\n",
            "      Successfully uninstalled gensim-3.6.0\n",
            "Successfully installed gensim-4.2.0\n"
          ]
        }
      ],
      "source": [
        "!pip install nltk\n",
        "!pip install --upgrade gensim"
      ]
    },
    {
      "cell_type": "markdown",
      "metadata": {
        "id": "Mqq8UbNUE8k6"
      },
      "source": [
        "### **Importing Python Libraries**"
      ]
    },
    {
      "cell_type": "code",
      "execution_count": null,
      "metadata": {
        "id": "NPUs3OzB--df"
      },
      "outputs": [],
      "source": [
        "import nltk\n",
        "import numpy as np\n",
        "from nltk.corpus import brown\n",
        "from sklearn.model_selection import train_test_split\n",
        "import random\n",
        "import tensorflow as tf\n",
        "from tensorflow.keras import backend as K\n",
        "from tensorflow.keras.layers import Dense, Dropout, Flatten\n",
        "from tensorflow.keras.models import Sequential, load_model\n",
        "import gensim"
      ]
    },
    {
      "cell_type": "markdown",
      "metadata": {
        "id": "OYWO8tRIMYNv"
      },
      "source": [
        "### **Downloading Brown Corpus**"
      ]
    },
    {
      "cell_type": "code",
      "execution_count": null,
      "metadata": {
        "colab": {
          "base_uri": "https://localhost:8080/"
        },
        "id": "wa8S1HkhE55r",
        "outputId": "0af38cdc-3f2c-4b8b-e49b-a8ef2c84e4ad"
      },
      "outputs": [
        {
          "name": "stderr",
          "output_type": "stream",
          "text": [
            "[nltk_data] Downloading package brown to /root/nltk_data...\n",
            "[nltk_data]   Unzipping corpora/brown.zip.\n",
            "[nltk_data] Downloading package universal_tagset to /root/nltk_data...\n",
            "[nltk_data]   Unzipping taggers/universal_tagset.zip.\n",
            "[nltk_data] Downloading package punkt to /root/nltk_data...\n",
            "[nltk_data]   Unzipping tokenizers/punkt.zip.\n"
          ]
        },
        {
          "data": {
            "text/plain": [
              "True"
            ]
          },
          "execution_count": 3,
          "metadata": {},
          "output_type": "execute_result"
        }
      ],
      "source": [
        "nltk.download('brown')\n",
        "nltk.download('universal_tagset')\n",
        "nltk.download('punkt')"
      ]
    },
    {
      "cell_type": "markdown",
      "metadata": {
        "id": "jAC5_W3nBab8"
      },
      "source": [
        "### **One-Hot Encoding for POS Tags**"
      ]
    },
    {
      "cell_type": "code",
      "execution_count": null,
      "metadata": {
        "id": "CAJ6OJjqHQSG"
      },
      "outputs": [],
      "source": [
        "def get_one_hot_encoding(arg_tags,tag) :\n",
        "  return [int(i==tag) for i in arg_tags]"
      ]
    },
    {
      "cell_type": "markdown",
      "metadata": {
        "id": "UHlTJSLzMnO9"
      },
      "source": [
        "### **Extracting words from sentences**"
      ]
    },
    {
      "cell_type": "code",
      "execution_count": null,
      "metadata": {
        "id": "MkNOXhILRvb9"
      },
      "outputs": [],
      "source": [
        "def sents_to_words(sents_data):\n",
        "  words_data = []\n",
        "  for sent_index in range(len(sents_data)):\n",
        "    for word_index in range(len(sents_data[sent_index])): \n",
        "      words_data.append(sents_data[sent_index][word_index])\n",
        "  return words_data"
      ]
    },
    {
      "cell_type": "markdown",
      "metadata": {
        "id": "3Jv4M3HRNFWI"
      },
      "source": [
        "### **Defining the tagset**"
      ]
    },
    {
      "cell_type": "code",
      "execution_count": null,
      "metadata": {
        "id": "ycNQLBUIF5mq"
      },
      "outputs": [],
      "source": [
        "corpus_words = nltk.corpus.brown.tagged_words(tagset='universal') \n",
        "tags = list(set([i[1] for i in corpus_words])) # Unique tags\n",
        "tags.sort()\n",
        "tag_index = dict(zip(tags, range(len(tags))))\n",
        "index_to_tag = dict(zip(range(len(tags)),tags))\n",
        "one_hot_encoding = {}\n",
        "for tag in tags :\n",
        "  one_hot_encoding[tag] = get_one_hot_encoding(tags,tag)"
      ]
    },
    {
      "cell_type": "markdown",
      "metadata": {
        "id": "dGg_81zANMAi"
      },
      "source": [
        "### **Extracting sentences from Brown Corpus**"
      ]
    },
    {
      "cell_type": "code",
      "execution_count": null,
      "metadata": {
        "colab": {
          "base_uri": "https://localhost:8080/"
        },
        "id": "FBVMDA5L_LFM",
        "outputId": "1ba23220-8465-462f-a2a9-497ea6150f8b"
      },
      "outputs": [
        {
          "name": "stderr",
          "output_type": "stream",
          "text": [
            "/usr/local/lib/python3.7/dist-packages/ipykernel_launcher.py:1: VisibleDeprecationWarning: Creating an ndarray from ragged nested sequences (which is a list-or-tuple of lists-or-tuples-or ndarrays with different lengths or shapes) is deprecated. If you meant to do this, you must specify 'dtype=object' when creating the ndarray.\n",
            "  \"\"\"Entry point for launching an IPython kernel.\n"
          ]
        }
      ],
      "source": [
        "corpus_sents = np.asarray(nltk.corpus.brown.tagged_sents(tagset='universal'))\n",
        "discard = []\n",
        "for i in range(len(corpus_sents)):\n",
        "  if(len(corpus_sents[i])==1 and corpus_sents[i][0][1]=='.'):\n",
        "    discard.append(i)\n",
        "corpus_sents = np.delete(corpus_sents, discard)\n",
        "corpus_sents = corpus_sents.tolist()\n",
        "for i in range(len(corpus_sents)):\n",
        "  if corpus_sents[i][-1][1] == '.':\n",
        "    corpus_sents[i] = corpus_sents[i][:-1]"
      ]
    },
    {
      "cell_type": "markdown",
      "metadata": {
        "id": "M00FElsFua-E"
      },
      "source": [
        "### **Separate the tags from words**"
      ]
    },
    {
      "cell_type": "code",
      "execution_count": null,
      "metadata": {
        "id": "gi8wINcy_7e5"
      },
      "outputs": [],
      "source": [
        "embed_sents = []\n",
        "embed_tags = []\n",
        "for i in range(len(corpus_sents)) :\n",
        "  temp_sent = []\n",
        "  temp_tags = []\n",
        "  for j in range(len(corpus_sents[i])) :\n",
        "    temp_sent.append(corpus_sents[i][j][0])\n",
        "    temp_tags.append(corpus_sents[i][j][1])\n",
        "  embed_sents.append(temp_sent)\n",
        "  embed_tags.append(temp_tags)\n",
        "embed_sents = np.asarray(embed_sents)\n",
        "embed_tags = np.asarray(embed_tags)"
      ]
    },
    {
      "cell_type": "markdown",
      "metadata": {
        "id": "qYQLst8MCDRj"
      },
      "source": [
        "### **Deleting Unnecessary variables**\n",
        "\n",
        "Don't run this during testing"
      ]
    },
    {
      "cell_type": "code",
      "execution_count": null,
      "metadata": {
        "id": "tc3nVRmgI-oz"
      },
      "outputs": [],
      "source": [
        "del corpus_sents\n",
        "del temp_sent\n",
        "del temp_tags"
      ]
    },
    {
      "cell_type": "markdown",
      "metadata": {
        "id": "geApJ7SgFH6v"
      },
      "source": [
        "### **Define the Tensorflow Model**\n",
        "\n",
        "Run this if you don't have the saved Tensorflow model"
      ]
    },
    {
      "cell_type": "code",
      "execution_count": null,
      "metadata": {
        "id": "kMOcyndCFwa1"
      },
      "outputs": [],
      "source": [
        "def model_1(embedding_size, window_size):\n",
        "  model = Sequential([\n",
        "      Flatten(input_shape = (2*window_size + 1,embedding_size)),\n",
        "      Dense(embedding_size,activation=\"relu\"),\n",
        "      Dense(embedding_size/2,activation=\"relu\"),\n",
        "      Dense(12,activation=\"softmax\")\n",
        "  ])\n",
        "  return model"
      ]
    },
    {
      "cell_type": "markdown",
      "metadata": {
        "id": "zNleeeH1I6IZ"
      },
      "source": [
        "### **Hyperparameter Tuning**"
      ]
    },
    {
      "cell_type": "code",
      "execution_count": null,
      "metadata": {
        "id": "nCq1KAQMI_By"
      },
      "outputs": [],
      "source": [
        "embedding_size = 100      # Dimension of word vectors\n",
        "window_size = 1           # Number of words around the target word that will be considered while training the model\n",
        "epochs = 5                # Number of epochs"
      ]
    },
    {
      "cell_type": "markdown",
      "metadata": {
        "id": "oxWPGip0util"
      },
      "source": [
        "### **Generate Word2Vec model using Brown corpus**"
      ]
    },
    {
      "cell_type": "code",
      "execution_count": null,
      "metadata": {
        "id": "pFXSBw_f5Vdx"
      },
      "outputs": [],
      "source": [
        "brown_wvmodel = gensim.models.Word2Vec(sentences=embed_sents, vector_size=embedding_size).wv"
      ]
    },
    {
      "cell_type": "markdown",
      "metadata": {
        "id": "HT5W0gPvFNl7"
      },
      "source": [
        "### **Generate training data**\n",
        "\n",
        "Run this if you don't have the saved Tensorflow model"
      ]
    },
    {
      "cell_type": "code",
      "execution_count": null,
      "metadata": {
        "id": "y318qVrd-JuK"
      },
      "outputs": [],
      "source": [
        "def transform_w2v_train(training_sents, training_tags, arg_wvmodel, embedding_size, window_size) :\n",
        "  w2v_words = []\n",
        "  w2v_tags = []\n",
        "  for i in range(len(training_sents)) :\n",
        "    sent = training_sents[i]\n",
        "    for p in range(len(sent)):\n",
        "      vec = np.zeros((2*window_size+1,embedding_size), dtype=np.float32)\n",
        "      append_plz = True\n",
        "      for j in list(np.arange(p-window_size,p+window_size+1)) :\n",
        "        if j>=0 and j<len(sent) :\n",
        "          try:\n",
        "            vec[j-p+window_size] = arg_wvmodel.get_vector(sent[j],norm=True)\n",
        "          except:\n",
        "            append_plz = False\n",
        "            break\n",
        "      if append_plz:\n",
        "        w2v_words.append(vec)\n",
        "        w2v_tags.append(one_hot_encoding[training_tags[i][p]])\n",
        "  return np.asarray(w2v_words), np.asarray(w2v_tags)"
      ]
    },
    {
      "cell_type": "markdown",
      "metadata": {
        "id": "kJit_CAcNShh"
      },
      "source": [
        "### **Training the model**\n",
        "\n",
        "Don't run this during testing"
      ]
    },
    {
      "cell_type": "code",
      "execution_count": null,
      "metadata": {
        "colab": {
          "base_uri": "https://localhost:8080/"
        },
        "id": "v1BQcQmRt4Gt",
        "outputId": "412a9392-67dd-46ce-9e42-377ca488c642"
      },
      "outputs": [
        {
          "name": "stdout",
          "output_type": "stream",
          "text": [
            "############### Iteration 0 ###############\n",
            "\n",
            "Epoch 1/5\n",
            "23275/23275 [==============================] - 79s 3ms/step - loss: 0.2590 - accuracy: 0.9112 - false_negatives: 80576.0000\n",
            "Epoch 2/5\n",
            "23275/23275 [==============================] - 79s 3ms/step - loss: 0.1921 - accuracy: 0.9328 - false_negatives: 58468.0000\n",
            "Epoch 3/5\n",
            "23275/23275 [==============================] - 78s 3ms/step - loss: 0.1766 - accuracy: 0.9378 - false_negatives: 53821.0000\n",
            "Epoch 4/5\n",
            "23275/23275 [==============================] - 94s 4ms/step - loss: 0.1664 - accuracy: 0.9416 - false_negatives: 50312.0000\n",
            "Epoch 5/5\n",
            "23275/23275 [==============================] - 78s 3ms/step - loss: 0.1595 - accuracy: 0.9435 - false_negatives: 48326.0000\n",
            "\n",
            "############### Iteration 1 ###############\n",
            "\n",
            "Epoch 1/5\n",
            "23314/23314 [==============================] - 69s 3ms/step - loss: 0.2623 - accuracy: 0.9101 - false_negatives: 81600.0000\n",
            "Epoch 2/5\n",
            "23314/23314 [==============================] - 72s 3ms/step - loss: 0.1942 - accuracy: 0.9318 - false_negatives: 59405.0000\n",
            "Epoch 3/5\n",
            "23314/23314 [==============================] - 85s 4ms/step - loss: 0.1781 - accuracy: 0.9373 - false_negatives: 54213.0000\n",
            "Epoch 4/5\n",
            "23314/23314 [==============================] - 74s 3ms/step - loss: 0.1681 - accuracy: 0.9409 - false_negatives: 51220.0000\n",
            "Epoch 5/5\n",
            "23314/23314 [==============================] - 87s 4ms/step - loss: 0.1611 - accuracy: 0.9432 - false_negatives: 48811.0000\n",
            "\n",
            "############### Iteration 2 ###############\n",
            "\n",
            "Epoch 1/5\n",
            "23290/23290 [==============================] - 66s 3ms/step - loss: 0.2606 - accuracy: 0.9111 - false_negatives: 80620.0000\n",
            "Epoch 2/5\n",
            "23290/23290 [==============================] - 68s 3ms/step - loss: 0.1933 - accuracy: 0.9325 - false_negatives: 59112.0000\n",
            "Epoch 3/5\n",
            "23290/23290 [==============================] - 65s 3ms/step - loss: 0.1779 - accuracy: 0.9376 - false_negatives: 54097.0000\n",
            "Epoch 4/5\n",
            "23290/23290 [==============================] - 64s 3ms/step - loss: 0.1687 - accuracy: 0.9408 - false_negatives: 51279.0000\n",
            "Epoch 5/5\n",
            "23290/23290 [==============================] - 66s 3ms/step - loss: 0.1621 - accuracy: 0.9432 - false_negatives: 49002.0000\n",
            "\n",
            "############### Iteration 3 ###############\n",
            "\n",
            "Epoch 1/5\n",
            "23265/23265 [==============================] - 69s 3ms/step - loss: 0.2637 - accuracy: 0.9103 - false_negatives: 81520.0000\n",
            "Epoch 2/5\n",
            "23265/23265 [==============================] - 64s 3ms/step - loss: 0.1951 - accuracy: 0.9320 - false_negatives: 59361.0000\n",
            "Epoch 3/5\n",
            "23265/23265 [==============================] - 69s 3ms/step - loss: 0.1787 - accuracy: 0.9375 - false_negatives: 54089.0000\n",
            "Epoch 4/5\n",
            "23265/23265 [==============================] - 64s 3ms/step - loss: 0.1692 - accuracy: 0.9407 - false_negatives: 51191.0000\n",
            "Epoch 5/5\n",
            "23265/23265 [==============================] - 62s 3ms/step - loss: 0.1625 - accuracy: 0.9428 - false_negatives: 49219.0000\n",
            "\n",
            "############### Iteration 4 ###############\n",
            "\n",
            "Epoch 1/5\n",
            "23270/23270 [==============================] - 66s 3ms/step - loss: 0.2623 - accuracy: 0.9101 - false_negatives: 81435.0000\n",
            "Epoch 2/5\n",
            "23270/23270 [==============================] - 62s 3ms/step - loss: 0.1948 - accuracy: 0.9315 - false_negatives: 59656.0000\n",
            "Epoch 3/5\n",
            "23270/23270 [==============================] - 61s 3ms/step - loss: 0.1790 - accuracy: 0.9369 - false_negatives: 54505.0000\n",
            "Epoch 4/5\n",
            "23270/23270 [==============================] - 62s 3ms/step - loss: 0.1691 - accuracy: 0.9402 - false_negatives: 51348.0000\n",
            "Epoch 5/5\n",
            "23270/23270 [==============================] - 62s 3ms/step - loss: 0.1624 - accuracy: 0.9427 - false_negatives: 49277.0000\n",
            "\n"
          ]
        }
      ],
      "source": [
        "from sklearn.model_selection import KFold\n",
        "\n",
        "kfold = KFold(n_splits=5, random_state=None, shuffle=True)\n",
        "iter = 0\n",
        "# batches = 10\n",
        "for train,test in kfold.split(embed_sents):\n",
        "  print(\"#\"*15 + \" Iteration \" + str(iter) + \" \" + \"#\"*15)\n",
        "  print()\n",
        "  iter+=1\n",
        "  # Initialising the Tensorflow model\n",
        "  kfold_model = model_1(embedding_size, window_size)\n",
        "  kfold_model.compile(optimizer=tf.keras.optimizers.Adam(learning_rate=1e-3),\n",
        "              loss=tf.keras.losses.CategoricalCrossentropy(),\n",
        "              metrics=['accuracy', tf.keras.metrics.FalseNegatives()])\n",
        "  # Generating Training Data\n",
        "  training_words_data, training_tags = transform_w2v_train(embed_sents[train], embed_tags[train], brown_wvmodel, embedding_size, window_size)\n",
        "  # Training the model\n",
        "  kfold_model.fit(training_words_data,training_tags,epochs=epochs)\n",
        "  print()\n",
        "  del training_words_data\n",
        "  del training_tags\n",
        "  # Saving the Model and Data\n",
        "  kfold_model.save(f'saved_model/my_model_{iter}')\n",
        "  with open(f'training_{iter}.txt', 'w') as f:\n",
        "    for sent in embed_sents[train]:\n",
        "      for word in sent:\n",
        "        f.write(f\"{word} \")\n",
        "      f.write(\"\\n\")\n",
        "  with open(f'test_data_{iter}.txt', 'w') as f:\n",
        "    for sent in embed_sents[test]:\n",
        "      for word in sent:\n",
        "        f.write(f\"{word} \")\n",
        "      f.write(\"\\n\")\n",
        "  with open(f'test_tags_{iter}.txt', 'w') as f:\n",
        "    for sent in embed_tags[test]:\n",
        "      for tag in sent:\n",
        "        f.write(f\"{tag} \")\n",
        "      f.write(\"\\n\")\n",
        "  tf.keras.backend.clear_session()"
      ]
    },
    {
      "cell_type": "markdown",
      "metadata": {
        "id": "cASJwObq_iCN"
      },
      "source": [
        "### **Import Google-News-300 Dataset**"
      ]
    },
    {
      "cell_type": "code",
      "execution_count": null,
      "metadata": {
        "colab": {
          "base_uri": "https://localhost:8080/"
        },
        "id": "DvGcaDxDOLPo",
        "outputId": "12fe7f60-6aed-4f8e-ce90-28911434903b"
      },
      "outputs": [
        {
          "name": "stdout",
          "output_type": "stream",
          "text": [
            "[==================================================] 100.0% 1662.8/1662.8MB downloaded\n"
          ]
        }
      ],
      "source": [
        "import gensim.downloader\n",
        "\n",
        "google_wvmodel = gensim.downloader.load('word2vec-google-news-300')\n",
        "google_embedding_size = 300"
      ]
    },
    {
      "cell_type": "markdown",
      "metadata": {
        "id": "GGuZ5IsRAC4z"
      },
      "source": [
        "### **Generate an Embedding Matrix consisting of word vectors from Google Dataset**"
      ]
    },
    {
      "cell_type": "code",
      "execution_count": null,
      "metadata": {
        "id": "GMZ4ry9_5d8b"
      },
      "outputs": [],
      "source": [
        "def google_matrix(common_words):\n",
        "  matrix = np.zeros((len(common_words), google_embedding_size))\n",
        "  for i in range(len(common_words)):\n",
        "    matrix[i] = google_wvmodel.get_vector(common_words[i], norm=True)\n",
        "  return matrix"
      ]
    },
    {
      "cell_type": "markdown",
      "metadata": {
        "id": "d3XTUAaPAG8Z"
      },
      "source": [
        "### **Find the most similar word in the training corpus**"
      ]
    },
    {
      "cell_type": "code",
      "execution_count": null,
      "metadata": {
        "id": "6Jl91Qrk5e0Q"
      },
      "outputs": [],
      "source": [
        "def most_similar(word, word2vec_matrix, common_words):\n",
        "  try:\n",
        "    test_vector = google_wvmodel.get_vector(word, norm=True)\n",
        "    similarity_vector = np.matmul(word2vec_matrix, test_vector)\n",
        "    return common_words[np.argmax(similarity_vector)]\n",
        "  except:\n",
        "    return \"\""
      ]
    },
    {
      "cell_type": "markdown",
      "metadata": {
        "id": "riXHUiRRHLsF"
      },
      "source": [
        "### **Generate Test Data**\n",
        "\n",
        "Don't run this during testing"
      ]
    },
    {
      "cell_type": "code",
      "execution_count": null,
      "metadata": {
        "id": "oM-RmR-RyzQP"
      },
      "outputs": [],
      "source": [
        "def transform_w2v_test(test_sents,test_tags,arg_wvmodel,embedding_size,window_size,available_words,embedding_matrix) :\n",
        "  w2v_words = []\n",
        "  w2v_tags = []\n",
        "  for i in range(len(test_sents)) :\n",
        "    sent = test_sents[i]\n",
        "    for p in range(len(sent)):\n",
        "      vec = np.zeros((2*window_size+1,embedding_size))\n",
        "      for j in list(np.arange(p-window_size,p+window_size+1)) :\n",
        "        if j>=0 and j<len(sent) :\n",
        "          try:\n",
        "            vec[j-p+window_size] = arg_wvmodel.get_vector(sent[j], norm=True)\n",
        "          except:\n",
        "              similar_word = most_similar(sent[j], available_words, embedding_matrix)\n",
        "              if len(similar_word) == 0 :\n",
        "                v = np.random.rand(embedding_size)\n",
        "                vec[j-p+window_size] = v/np.linalg.norm(v)\n",
        "              else:\n",
        "                vec[j-p+window_size] = arg_wvmodel.get_vector(similar_word, norm=True)\n",
        "      w2v_words.append(vec)\n",
        "      w2v_tags.append(one_hot_encoding[test_tags[i][p]])\n",
        "  return np.asarray(w2v_words), np.asarray(w2v_tags)"
      ]
    },
    {
      "cell_type": "markdown",
      "metadata": {
        "id": "oHg4LdleHQLp"
      },
      "source": [
        "### **Auxiliary Function**\n",
        "\n",
        "Don't run this during testing"
      ]
    },
    {
      "cell_type": "code",
      "execution_count": null,
      "metadata": {
        "id": "gGg_b_ge2dxD"
      },
      "outputs": [],
      "source": [
        "def trim(s):\n",
        "  return s[:-2].split()"
      ]
    },
    {
      "cell_type": "markdown",
      "metadata": {
        "id": "-LZH1W6VARVI"
      },
      "source": [
        "### **Finding common words between Brown Corpus and Google News Dataset**"
      ]
    },
    {
      "cell_type": "code",
      "execution_count": null,
      "metadata": {
        "id": "fQvcsM3CUP2X"
      },
      "outputs": [],
      "source": [
        "unique_words = list(set([i[0] for i in corpus_words]))\n",
        "google_words = []\n",
        "for index, word in enumerate(google_wvmodel.index_to_key):\n",
        "  google_words.append(word)\n",
        "common_words = list(set(google_words).intersection(set(unique_words)))\n",
        "del google_words\n",
        "del corpus_words"
      ]
    },
    {
      "cell_type": "markdown",
      "metadata": {
        "id": "ik-KpsAVH_se"
      },
      "source": [
        "### **Performing K-Fold Cross Validation on the model**\n",
        "\n",
        "Don't run this during testing"
      ]
    },
    {
      "cell_type": "code",
      "execution_count": null,
      "metadata": {
        "id": "YkvGgPpVuGBF"
      },
      "outputs": [],
      "source": [
        "confusion_matrix = np.zeros((12,12))\n",
        "confusion_matrix = confusion_matrix.astype('float64')\n",
        "accuracy = []\n",
        "for iter in range(5):\n",
        "  print(\"#\"*15 + \" Fold : \" + str(iter+1) + \" \" + \"#\"*15)\n",
        "  # Extract training data\n",
        "  train_file = open(f\"training_{iter+1}.txt\", 'r')\n",
        "  training_data = train_file.readlines()\n",
        "  training_data = list(map(trim, training_data))\n",
        "  training_words = sents_to_words(training_data)\n",
        "  training_words = list(set([i[0] for i in training_words]))\n",
        "  available_words = list(set(common_words).intersection(set(training_words)))\n",
        "  # Delete training variables\n",
        "  del training_words\n",
        "  del training_data\n",
        "  # Generating the matrix of word vectors from Google News dataset\n",
        "  word2vec_matrix = google_matrix(available_words)\n",
        "  # Extract test data\n",
        "  test_data_file = open(f\"test_data_{iter+1}.txt\", 'r')\n",
        "  test_data = test_data_file.readlines()\n",
        "  test_data = list(map(trim, test_data))\n",
        "  test_tags_file = open(f\"test_tags_{iter+1}.txt\", 'r')\n",
        "  test_tags = test_tags_file.readlines()\n",
        "  test_tags = list(map(trim, test_tags))\n",
        "  # Generating word vectors for test data\n",
        "  testing_words_data, testing_tags = transform_w2v_test(test_data, test_tags, brown_wvmodel, embedding_size, window_size, available_words, word2vec_matrix)\n",
        "  del test_data\n",
        "  del test_tags\n",
        "  # Load the Keras Model for Cross Validation\n",
        "  kfold_model = tf.keras.models.load_model(f'saved_model/my_model_{iter+1}')\n",
        "  correct_tags = 0\n",
        "  total_tags = 0\n",
        "  for i in range(len(testing_words_data)) :\n",
        "    expected = np.argmax(testing_tags[i])\n",
        "    predicted = np.argmax(kfold_model(testing_words_data[i][None,:,:], training=False))\n",
        "    confusion_matrix[expected][predicted] += 1\n",
        "    if expected == predicted :\n",
        "      correct_tags += 1\n",
        "    total_tags += 1\n",
        "  accuracy.append(correct_tags/total_tags)\n",
        "  # Delete space-consuming variables\n",
        "  del word2vec_matrix\n",
        "  del available_words\n",
        "  del testing_words_data\n",
        "  del testing_tags\n",
        "final_accuracy = np.mean(accuracy)"
      ]
    },
    {
      "cell_type": "markdown",
      "metadata": {
        "id": "sZxSPrpiRpaB"
      },
      "source": [
        "### **Calculating Precision, Recall and F-scores**\n",
        "\n",
        "Don't run this during testing"
      ]
    },
    {
      "cell_type": "code",
      "execution_count": null,
      "metadata": {
        "id": "5m6We7Rf3PSa"
      },
      "outputs": [],
      "source": [
        "def Fscore(beta,precision,recall):\n",
        "  return (1+beta*beta)*precision*recall/(beta*beta*precision + recall)"
      ]
    },
    {
      "cell_type": "code",
      "execution_count": null,
      "metadata": {
        "id": "Nz1p7q17NicO"
      },
      "outputs": [],
      "source": [
        "precision = []\n",
        "recall = []\n",
        "for i in range(len(confusion_matrix)):\n",
        "  precision.append(confusion_matrix[i][i]/sum(confusion_matrix[:,i]))\n",
        "  recall.append(confusion_matrix[i][i]/sum(confusion_matrix[i]))\n",
        "F1_score = []\n",
        "F2_score = []\n",
        "Fhalf_score = []\n",
        "for i in range(len(recall)):\n",
        "  F1_score.append(Fscore(1,precision[i],recall[i]))\n",
        "  F2_score.append(Fscore(2,precision[i],recall[i]))\n",
        "  Fhalf_score.append(Fscore(0.5,precision[i],recall[i]))\n",
        "net_precision = np.mean(precision)\n",
        "net_recall = np.mean(recall)\n",
        "net_F1_score = np.mean(F1_score)\n",
        "net_F2_score = np.mean(F2_score)\n",
        "net_Fhalf_score = np.mean(Fhalf_score)\n",
        "print(\"Net Accuracy : \" + str(format(final_accuracy*100, '.2f')))\n",
        "print(\"Net precision : \" + str(format(net_precision*100, '.2f')))\n",
        "print(\"Net Recall : \" + str(format(net_recall*100, '.2f')))\n",
        "print(\"Net F1 Score : \" + str(format(net_F1_score*100, '.2f')))\n",
        "print(\"Net F2 Score : \" + str(format(net_F2_score*100, '.2f')))\n",
        "print(\"Net F3 Score : \" + str(format(net_Fhalf_score*100, '.2f')))"
      ]
    },
    {
      "cell_type": "code",
      "execution_count": null,
      "metadata": {
        "id": "e8WSzjxft6GK"
      },
      "outputs": [],
      "source": [
        "print(\"Precision per POS Tag\")\n",
        "print(precision)\n",
        "print()\n",
        "print(\"Recall per POS Tag\")\n",
        "print(recall)\n",
        "print()\n",
        "print(\"F1 score per POS Tag\")\n",
        "print(F1_score)\n",
        "print()\n",
        "print(\"F2 score per POS Tag\")\n",
        "print(F2_score)\n",
        "print()\n",
        "print(\"F0.5 score per POS Tag\")\n",
        "print(Fhalf_score)"
      ]
    },
    {
      "cell_type": "markdown",
      "metadata": {
        "id": "-rrysqHGRuGC"
      },
      "source": [
        "### **Plotting the heat map for confusion matrix**\n",
        "\n",
        "Don't run this during testing"
      ]
    },
    {
      "cell_type": "code",
      "execution_count": null,
      "metadata": {
        "colab": {
          "base_uri": "https://localhost:8080/",
          "height": 880
        },
        "id": "aRH37FH3PzEb",
        "outputId": "5d68218e-d079-47e0-fd7a-e097aed44ea3"
      },
      "outputs": [
        {
          "data": {
            "text/plain": [
              "<matplotlib.axes._subplots.AxesSubplot at 0x7f8d670b1e10>"
            ]
          },
          "execution_count": 24,
          "metadata": {},
          "output_type": "execute_result"
        },
        {
          "data": {
            "image/png": "[encoded data removed]",
            "text/plain": [
              "<Figure size 1080x1080 with 2 Axes>"
            ]
          },
          "metadata": {
            "needs_background": "light"
          },
          "output_type": "display_data"
        }
      ],
      "source": [
        "import seaborn as sns\n",
        "import matplotlib.pyplot as plt\n",
        "\n",
        "c = np.empty((len(confusion_matrix),len(confusion_matrix)))\n",
        "for i in range(len(confusion_matrix)):\n",
        "  for j in range(len(confusion_matrix)):\n",
        "    c[i][j] = round(confusion_matrix[i][j],2)\n",
        "fig, ax = plt.subplots(figsize=(15,15))         # Sample figsize in inches\n",
        "sns.heatmap(c, annot=True, linewidths=.5, ax=ax, xticklabels=tags, yticklabels=tags)"
      ]
    },
    {
      "cell_type": "markdown",
      "metadata": {
        "id": "UXF17YyiIbtu"
      },
      "source": [
        "### **Final Training**\n",
        "\n",
        "Run this if you don't have the saved Tensorflow model"
      ]
    },
    {
      "cell_type": "code",
      "execution_count": null,
      "metadata": {
        "colab": {
          "base_uri": "https://localhost:8080/"
        },
        "id": "W5dcf8MDQQWO",
        "outputId": "e55a0e44-365a-4415-ac10-39d18c2546f5"
      },
      "outputs": [
        {
          "name": "stdout",
          "output_type": "stream",
          "text": [
            "Epoch 1/5\n",
            "29104/29104 [==============================] - 71s 2ms/step - loss: 0.2490 - accuracy: 0.9146 - false_negatives: 95988.0000\n",
            "Epoch 2/5\n",
            "29104/29104 [==============================] - 68s 2ms/step - loss: 0.1871 - accuracy: 0.9344 - false_negatives: 71256.0000\n",
            "Epoch 3/5\n",
            "29104/29104 [==============================] - 68s 2ms/step - loss: 0.1727 - accuracy: 0.9390 - false_negatives: 65858.0000\n",
            "Epoch 4/5\n",
            "29104/29104 [==============================] - 67s 2ms/step - loss: 0.1639 - accuracy: 0.9419 - false_negatives: 62477.0000\n",
            "Epoch 5/5\n",
            "29104/29104 [==============================] - 68s 2ms/step - loss: 0.1575 - accuracy: 0.9442 - false_negatives: 59919.0000\n"
          ]
        }
      ],
      "source": [
        "# Generate Training Data\n",
        "training_words_data, training_tags = transform_w2v_train(embed_sents, embed_tags, brown_wvmodel, embedding_size, window_size)\n",
        "\n",
        "#Initialize Tensorflow Model\n",
        "final_model = model_1(embedding_size, window_size)\n",
        "final_model.compile(optimizer=tf.keras.optimizers.Adam(learning_rate=1e-3),\n",
        "              loss=tf.keras.losses.CategoricalCrossentropy(),\n",
        "              metrics=['accuracy', tf.keras.metrics.FalseNegatives()])\n",
        "\n",
        "# Perform Training \n",
        "final_model.fit(training_words_data,training_tags,epochs=epochs)\n",
        "\n",
        "# Save the Tensorflow Model\n",
        "final_model.save('final_model')"
      ]
    },
    {
      "cell_type": "markdown",
      "metadata": {
        "id": "4rQs2jj2KQnT"
      },
      "source": [
        "### **Get Input Vectors for words present in the input sentence**"
      ]
    },
    {
      "cell_type": "code",
      "execution_count": null,
      "metadata": {
        "id": "B0PQl9u-TRMe"
      },
      "outputs": [],
      "source": [
        "def transform(sent,arg_wvmodel,embedding_size,window_size,available_words,embedding_matrix) :\n",
        "  w2v_words = []\n",
        "  for p in range(len(sent)):\n",
        "    vec = np.zeros((2*window_size+1,embedding_size))\n",
        "    for j in list(np.arange(p-window_size,p+window_size+1)) :\n",
        "      if j>=0 and j<len(sent) :\n",
        "        try:\n",
        "          # Word is present in Brown Corpus\n",
        "          vec[j-p+window_size] = arg_wvmodel.get_vector(sent[j], norm=True)\n",
        "        except:\n",
        "            similar_word = most_similar(sent[j], available_words, embedding_matrix)\n",
        "            # Word is not present in Google corpus as well\n",
        "            if len(similar_word) == 0 :\n",
        "              v = np.random.rand(embedding_size)\n",
        "              vec[j-p+window_size] = v/np.linalg.norm(v)\n",
        "            # Word is present in Google corpus\n",
        "            else:\n",
        "              vec[j-p+window_size] = arg_wvmodel.get_vector(similar_word, norm=True)\n",
        "    w2v_words.append(vec)\n",
        "  return np.asarray(w2v_words)"
      ]
    },
    {
      "cell_type": "markdown",
      "metadata": {
        "id": "dQojvQ4ELTj1"
      },
      "source": [
        "### **Load a saved Tensorflow Model**"
      ]
    },
    {
      "cell_type": "code",
      "execution_count": null,
      "metadata": {
        "id": "C1q_A1ZPLNPT"
      },
      "outputs": [],
      "source": [
        "final_model = tf.keras.models.load_model('/content/content/final_model') #path to the final_model folder"
      ]
    },
    {
      "cell_type": "markdown",
      "metadata": {
        "id": "7keKYBDURyD4"
      },
      "source": [
        "### **Performing POS tagging on user input sentence**"
      ]
    },
    {
      "cell_type": "code",
      "execution_count": null,
      "metadata": {
        "colab": {
          "base_uri": "https://localhost:8080/"
        },
        "id": "gDIwNIwCPwtz",
        "outputId": "cea6fff6-7870-4193-a75a-c2e82e84392c"
      },
      "outputs": [
        {
          "name": "stdout",
          "output_type": "stream",
          "text": [
            "Netflix\n",
            "['ADJ']\n"
          ]
        }
      ],
      "source": [
        "input_sentence = input()\n",
        "lst = nltk.word_tokenize(input_sentence)\n",
        "word2vec_matrix = google_matrix(common_words)\n",
        "testing_words_data = transform(lst, brown_wvmodel, embedding_size, window_size, common_words, word2vec_matrix)\n",
        "tagged_list = []\n",
        "for i in range(len(testing_words_data)) :\n",
        "  tagged_list.append(index_to_tag[np.argmax(final_model(testing_words_data[i][None,:,:], training=False))])\n",
        "print(tagged_list)"
      ]
    },
    {
      "cell_type": "code",
      "execution_count": null,
      "metadata": {
        "id": "WuH0dkOOa41V"
      },
      "outputs": [],
      "source": [
        "!zip -r '/content/model.zip' '/content/final_model'"
      ]
    }
  ],
  "metadata": {
    "colab": {
      "collapsed_sections": [],
      "provenance": []
    },
    "kernelspec": {
      "display_name": "Python 3.10.6 64-bit",
      "language": "python",
      "name": "python3"
    },
    "language_info": {
      "name": "python",
      "version": "3.10.6"
    },
    "vscode": {
      "interpreter": {
        "hash": "916dbcbb3f70747c44a77c7bcd40155683ae19c65e1c03b4aa3499c5328201f1"
      }
    }
  },
  "nbformat": 4,
  "nbformat_minor": 0
}
